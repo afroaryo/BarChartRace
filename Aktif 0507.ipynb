{
 "cells": [
  {
   "cell_type": "code",
   "execution_count": 1,
   "metadata": {},
   "outputs": [],
   "source": [
    "import pandas as pd\n",
    "import pandas_alive\n",
    "aktifcase= pd.read_excel(\"AktifProv 0507.xlsx\",index_col=0,parse_dates=[0],thousands=',')\n",
    "import matplotlib.pyplot as plt\n",
    "import bar_chart_race as bcr\n",
    "%matplotlib inline"
   ]
  },
  {
   "cell_type": "code",
   "execution_count": null,
   "metadata": {
    "scrolled": false
   },
   "outputs": [],
   "source": [
    "fig, ax = plt.subplots(figsize=(14,14), dpi=240)\n",
    "#plt.style.use('dark_background')\n",
    "#plt.style.use('dark_background')\n",
    "plt.style.use('dark_background')\n",
    "ax.set_title(\"Top 10: Active Case by Province - Indonesia\", fontsize=18, fontweight='bold',color='white', pad=20)\n",
    "\n",
    "ax.set_xlabel('Data Source: Kementerian Kesehatan RI         Visualization: Jabar Digital Sevice',\n",
    "                      fontweight = 'bold', fontsize = '14',color = 'white',\n",
    "                      #position=(0., 1e6),\n",
    "                      horizontalalignment='center')\n",
    "\n",
    "bcr.bar_chart_race(aktifcase,\n",
    "                   orientation='h',\n",
    "                   #title='Top 10: Confirmed Cases By City in Jawa Barat',\n",
    "                   figsize=(14,14),\n",
    "                   dpi=240,\n",
    "                   n_bars=10,\n",
    "                   bar_label_size=12,\n",
    "                   tick_label_size=13, \n",
    "                   fig = fig,\n",
    "                   cmap = ['#FF4040', '#DEB887', '#FF7F24', '#D2691E', '#3D59AB' ,'#c72100', '#FF4040','#CDC8B1','#437016',\n",
    "                           '#008B8B','#9932CC','#E9967A','#6bff5c', '#DEB887', '#D2691E', '#D2691E', '#FF7256', '#3D59AB', \n",
    "                           '#FF7256','#CDC8B1','#8B8878','#008B8B','#9932CC','#E9967A','#FF4040', '#DEB887', '#376b04', \n",
    "                           '#ff00d0', '#FF7256','#CDC8B1','#f6ff00','#008B8B','#8B8878','#5679bf'],\n",
    "                   filename = 'AktifCaseProv05073.mp4',\n",
    "                   period_fmt='%d %b %Y',\n",
    "                   period_label = {'x': .7, 'y': .4,'color': 'white', 'size' : 20,'weight': 'bold'}\n",
    "                   )"
   ]
  },
  {
   "cell_type": "code",
   "execution_count": null,
   "metadata": {},
   "outputs": [],
   "source": []
  },
  {
   "cell_type": "code",
   "execution_count": null,
   "metadata": {},
   "outputs": [],
   "source": []
  },
  {
   "cell_type": "code",
   "execution_count": null,
   "metadata": {},
   "outputs": [],
   "source": []
  }
 ],
 "metadata": {
  "kernelspec": {
   "display_name": "Python 3",
   "language": "python",
   "name": "python3"
  },
  "language_info": {
   "codemirror_mode": {
    "name": "ipython",
    "version": 3
   },
   "file_extension": ".py",
   "mimetype": "text/x-python",
   "name": "python",
   "nbconvert_exporter": "python",
   "pygments_lexer": "ipython3",
   "version": "3.7.3"
  }
 },
 "nbformat": 4,
 "nbformat_minor": 2
}
